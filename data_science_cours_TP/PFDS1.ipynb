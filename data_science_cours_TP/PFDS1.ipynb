{
 "cells": [
  {
   "cell_type": "code",
   "execution_count": 2,
   "id": "bb619fbd-2d36-4d40-8ac0-548c489c7292",
   "metadata": {},
   "outputs": [
    {
     "data": {
      "text/plain": [
       "16"
      ]
     },
     "execution_count": 2,
     "metadata": {},
     "output_type": "execute_result"
    }
   ],
   "source": [
    "from Module1 import *\n",
    "a=4\n",
    "carre(a)"
   ]
  },
  {
   "cell_type": "code",
   "execution_count": 3,
   "id": "85fa9e4a-71af-4b3d-b7f7-b73792bec2b6",
   "metadata": {},
   "outputs": [
    {
     "data": {
      "text/plain": [
       "2.0"
      ]
     },
     "execution_count": 3,
     "metadata": {},
     "output_type": "execute_result"
    }
   ],
   "source": [
    "\n",
    "r_carre(a)"
   ]
  },
  {
   "cell_type": "code",
   "execution_count": 4,
   "id": "90360a49-02ce-4383-8a9d-f38d97924a13",
   "metadata": {},
   "outputs": [
    {
     "data": {
      "text/plain": [
       "8"
      ]
     },
     "execution_count": 4,
     "metadata": {},
     "output_type": "execute_result"
    }
   ],
   "source": [
    "doubler(a)\n"
   ]
  },
  {
   "cell_type": "code",
   "execution_count": 5,
   "id": "a3fa1b3b-0335-49f6-8862-a6daf4c081e9",
   "metadata": {},
   "outputs": [
    {
     "data": {
      "text/plain": [
       "12"
      ]
     },
     "execution_count": 5,
     "metadata": {},
     "output_type": "execute_result"
    }
   ],
   "source": [
    "tripler(a)"
   ]
  },
  {
   "cell_type": "code",
   "execution_count": 6,
   "id": "c29f3952-4b2a-4f54-9f98-ff9402cf983e",
   "metadata": {},
   "outputs": [
    {
     "data": {
      "text/plain": [
       "0.0"
      ]
     },
     "execution_count": 6,
     "metadata": {},
     "output_type": "execute_result"
    }
   ],
   "source": [
    "import math\n",
    "math.log(1)"
   ]
  },
  {
   "cell_type": "code",
   "execution_count": 7,
   "id": "5e2629b0-cefc-4790-ac02-f87f54567b11",
   "metadata": {},
   "outputs": [
    {
     "data": {
      "text/plain": [
       "18.166666666666668"
      ]
     },
     "execution_count": 7,
     "metadata": {},
     "output_type": "execute_result"
    }
   ],
   "source": [
    "import statistics\n",
    "liste=[12,13,4,8,3,69]\n",
    "statistics.mean(liste)"
   ]
  },
  {
   "cell_type": "code",
   "execution_count": 8,
   "id": "76746f1a-1231-46ec-84b1-3358b15156d0",
   "metadata": {},
   "outputs": [
    {
     "data": {
      "text/plain": [
       "636.5666666666667"
      ]
     },
     "execution_count": 8,
     "metadata": {},
     "output_type": "execute_result"
    }
   ],
   "source": [
    "statistics.variance(liste)"
   ]
  },
  {
   "cell_type": "code",
   "execution_count": 9,
   "id": "7e55fabc-eb33-4f89-bc83-e9e193d1c6b6",
   "metadata": {},
   "outputs": [
    {
     "name": "stdout",
     "output_type": "stream",
     "text": [
      "791\n"
     ]
    }
   ],
   "source": [
    "import random \n",
    "print (random.randint(4,1000))"
   ]
  },
  {
   "cell_type": "code",
   "execution_count": 10,
   "id": "a1df6c2f-9b88-426c-b567-e998fbedc598",
   "metadata": {},
   "outputs": [
    {
     "name": "stdout",
     "output_type": "stream",
     "text": [
      "0.3822975585419459\n"
     ]
    }
   ],
   "source": [
    "print(random.random())"
   ]
  },
  {
   "cell_type": "code",
   "execution_count": 11,
   "id": "2b2d161f-f2d7-41ef-8661-34e19251eb66",
   "metadata": {},
   "outputs": [
    {
     "name": "stdout",
     "output_type": "stream",
     "text": [
      "606\n"
     ]
    }
   ],
   "source": [
    "print(random.randrange(1000))"
   ]
  },
  {
   "cell_type": "code",
   "execution_count": 12,
   "id": "e6848902-985f-4b4e-823b-23702462443f",
   "metadata": {},
   "outputs": [
    {
     "name": "stdout",
     "output_type": "stream",
     "text": [
      "107.97278228492851\n"
     ]
    }
   ],
   "source": [
    "print(random.uniform(4,456))"
   ]
  },
  {
   "cell_type": "code",
   "execution_count": 13,
   "id": "8a1a7fd9-507e-4084-899a-2cd447cff346",
   "metadata": {},
   "outputs": [
    {
     "name": "stdout",
     "output_type": "stream",
     "text": [
      "8\n"
     ]
    }
   ],
   "source": [
    "random.seed(0)\n",
    "liste=[12,13,4,8,3,69]\n",
    "print(random.choice(liste))"
   ]
  },
  {
   "cell_type": "code",
   "execution_count": 14,
   "id": "d19f29ea-7ef0-4c4c-a015-00ec1b952277",
   "metadata": {},
   "outputs": [
    {
     "name": "stdout",
     "output_type": "stream",
     "text": [
      "['Jean', 'Moussa', 'Sara']\n"
     ]
    }
   ],
   "source": [
    "noms=[\"Eddie\",\"Sara\",\"Moussa\",\"Jean\",\"Youssef\"]\n",
    "print(random.choices(noms, k=3))"
   ]
  },
  {
   "cell_type": "code",
   "execution_count": 15,
   "id": "f0a010f3-c202-45dc-bc29-51670d0323af",
   "metadata": {},
   "outputs": [
    {
     "name": "stdout",
     "output_type": "stream",
     "text": [
      "['Youssef', 'Jean', 'Sara']\n"
     ]
    }
   ],
   "source": [
    "print(random.sample(noms, 3))"
   ]
  },
  {
   "cell_type": "code",
   "execution_count": 16,
   "id": "2f2dd33b-4380-4992-8d81-bc38dc6cd721",
   "metadata": {},
   "outputs": [
    {
     "name": "stdout",
     "output_type": "stream",
     "text": [
      "[15, 11]\n"
     ]
    }
   ],
   "source": [
    "print(random.sample(range(20),random.randrange(5)))"
   ]
  },
  {
   "cell_type": "code",
   "execution_count": 17,
   "id": "9e5769ef-d57c-4ed6-9cda-baca04606e81",
   "metadata": {},
   "outputs": [
    {
     "name": "stdout",
     "output_type": "stream",
     "text": [
      "[4, 12, 8, 69, 13, 3]\n"
     ]
    }
   ],
   "source": [
    "liste=[12,13,4,8,3,69]\n",
    "random.shuffle(liste)  \n",
    "\"\"\"melanger aléatoirement\"\"\"\n",
    "print(liste)"
   ]
  },
  {
   "cell_type": "code",
   "execution_count": 18,
   "id": "5eca68ef-d1fa-4bfa-b821-e8f183f895d7",
   "metadata": {},
   "outputs": [
    {
     "data": {
      "text/plain": [
       "False"
      ]
     },
     "execution_count": 18,
     "metadata": {},
     "output_type": "execute_result"
    }
   ],
   "source": [
    "liste1=[2,4,6,8,23]\n",
    "liste2=[True,False,True]\n",
    "all(liste2)"
   ]
  },
  {
   "cell_type": "code",
   "execution_count": 19,
   "id": "cfd98bf9-4980-4acc-a77b-d8172fa67eb0",
   "metadata": {},
   "outputs": [
    {
     "data": {
      "text/plain": [
       "True"
      ]
     },
     "execution_count": 19,
     "metadata": {},
     "output_type": "execute_result"
    }
   ],
   "source": [
    "any(liste2)"
   ]
  },
  {
   "cell_type": "code",
   "execution_count": 20,
   "id": "43c61522-4b27-4d63-91d2-e03fbb042307",
   "metadata": {},
   "outputs": [
    {
     "data": {
      "text/plain": [
       "True"
      ]
     },
     "execution_count": 20,
     "metadata": {},
     "output_type": "execute_result"
    }
   ],
   "source": [
    "any(liste1)"
   ]
  },
  {
   "cell_type": "code",
   "execution_count": 21,
   "id": "e92f2015-461e-4aa0-9439-037054e95bc5",
   "metadata": {},
   "outputs": [
    {
     "name": "stdout",
     "output_type": "stream",
     "text": [
      "(3, 3)\n",
      "[[1 2 3]\n",
      " [1 2 3]\n",
      " [1 2 3]]\n"
     ]
    }
   ],
   "source": [
    "import numpy as np\n",
    "B=np.array([[1,2,3],[1,2,3],[1,2,3]])\n",
    "print(np.shape(B)) \n",
    "print(B)"
   ]
  },
  {
   "cell_type": "code",
   "execution_count": 22,
   "id": "0b822e2a-51b3-4f29-93a1-cf43898dfeef",
   "metadata": {},
   "outputs": [
    {
     "name": "stdout",
     "output_type": "stream",
     "text": [
      "9\n"
     ]
    }
   ],
   "source": [
    "print(np.size(B))"
   ]
  },
  {
   "cell_type": "code",
   "execution_count": 23,
   "id": "44c0c5db-29fd-42f1-81f1-2fabdcd49b68",
   "metadata": {},
   "outputs": [
    {
     "name": "stdout",
     "output_type": "stream",
     "text": [
      "[[1 1 1]\n",
      " [2 2 2]\n",
      " [3 3 3]]\n"
     ]
    }
   ],
   "source": [
    "print(B.T)"
   ]
  },
  {
   "cell_type": "code",
   "execution_count": 24,
   "id": "d4ee172b-0c04-4841-a2b3-3b114937a24e",
   "metadata": {},
   "outputs": [
    {
     "name": "stdout",
     "output_type": "stream",
     "text": [
      "2\n"
     ]
    }
   ],
   "source": [
    "print(B.ndim)"
   ]
  },
  {
   "cell_type": "code",
   "execution_count": 25,
   "id": "40ff9765-31f1-466d-a9aa-97ac0a5d579d",
   "metadata": {},
   "outputs": [
    {
     "name": "stdout",
     "output_type": "stream",
     "text": [
      "[[0. 0. 0. 0.]\n",
      " [0. 0. 0. 0.]\n",
      " [0. 0. 0. 0.]]\n"
     ]
    },
    {
     "data": {
      "text/plain": [
       "' Pour initialiser un tableau à valeur nulle'"
      ]
     },
     "execution_count": 25,
     "metadata": {},
     "output_type": "execute_result"
    }
   ],
   "source": [
    "A=np.zeros((3,4))\n",
    "print(A)\n",
    "''' Pour initialiser un tableau à valeur nulle'''"
   ]
  },
  {
   "cell_type": "code",
   "execution_count": 26,
   "id": "915dfa65-f59f-4fa7-b50e-e839047b05e9",
   "metadata": {},
   "outputs": [
    {
     "name": "stdout",
     "output_type": "stream",
     "text": [
      "[[0. 0. 0. 0.]\n",
      " [0. 0. 0. 0.]\n",
      " [0. 0. 0. 0.]]\n"
     ]
    },
    {
     "data": {
      "text/plain": [
       "' pour reserver la mémoire du tableau  / les valeurs peuvent etre differentes de 0'"
      ]
     },
     "execution_count": 26,
     "metadata": {},
     "output_type": "execute_result"
    }
   ],
   "source": [
    "A=np.empty((3,4))\n",
    "print(A)\n",
    "''' pour reserver la mémoire du tableau  / les valeurs peuvent etre differentes de 0'''"
   ]
  },
  {
   "cell_type": "code",
   "execution_count": 27,
   "id": "ffdd0484-03fa-440d-918a-ff5c36ebbe19",
   "metadata": {},
   "outputs": [
    {
     "name": "stdout",
     "output_type": "stream",
     "text": [
      "[[0. 0. 0. 0.]\n",
      " [0. 0. 0. 0.]\n",
      " [0. 0. 0. 0.]]\n"
     ]
    }
   ],
   "source": [
    "C=np.zeros_like(A)\n",
    "print(C)"
   ]
  },
  {
   "cell_type": "code",
   "execution_count": 28,
   "id": "8806906a-3763-479d-8ef2-541812e83377",
   "metadata": {},
   "outputs": [
    {
     "name": "stdout",
     "output_type": "stream",
     "text": [
      "[[1. 1. 1. 1. 1.]\n",
      " [1. 1. 1. 1. 1.]\n",
      " [1. 1. 1. 1. 1.]]\n"
     ]
    },
    {
     "data": {
      "text/plain": [
       "' initialiser un tableau avec des valeurs égale à 1'"
      ]
     },
     "execution_count": 28,
     "metadata": {},
     "output_type": "execute_result"
    }
   ],
   "source": [
    "F=np.ones((3,5))\n",
    "print(F)\n",
    "''' initialiser un tableau avec des valeurs égale à 1'''"
   ]
  },
  {
   "cell_type": "code",
   "execution_count": null,
   "id": "4ef6b93a-1f2a-4005-95e2-5747800c9430",
   "metadata": {},
   "outputs": [],
   "source": []
  }
 ],
 "metadata": {
  "kernelspec": {
   "display_name": "Python 3 (ipykernel)",
   "language": "python",
   "name": "python3"
  },
  "language_info": {
   "codemirror_mode": {
    "name": "ipython",
    "version": 3
   },
   "file_extension": ".py",
   "mimetype": "text/x-python",
   "name": "python",
   "nbconvert_exporter": "python",
   "pygments_lexer": "ipython3",
   "version": "3.12.7"
  }
 },
 "nbformat": 4,
 "nbformat_minor": 5
}
