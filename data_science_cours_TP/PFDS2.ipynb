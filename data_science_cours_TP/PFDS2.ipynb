{
 "cells": [
  {
   "cell_type": "code",
   "execution_count": 1,
   "id": "97c759bb-2fe1-4c89-b9b5-d1c9f79431f1",
   "metadata": {},
   "outputs": [
    {
     "name": "stdout",
     "output_type": "stream",
     "text": [
      "[[1. 0. 0. 0.]\n",
      " [0. 1. 0. 0.]\n",
      " [0. 0. 1. 0.]\n",
      " [0. 0. 0. 1.]]\n"
     ]
    }
   ],
   "source": [
    "import numpy as np\n",
    "A=np.eye(4)\n",
    "print(A)"
   ]
  },
  {
   "cell_type": "code",
   "execution_count": 2,
   "id": "7845b947-d269-47fa-b79f-8d997f924386",
   "metadata": {},
   "outputs": [
    {
     "name": "stdout",
     "output_type": "stream",
     "text": [
      "[[9 9 9 9]\n",
      " [9 9 9 9]\n",
      " [9 9 9 9]\n",
      " [9 9 9 9]]\n"
     ]
    }
   ],
   "source": [
    "B=np.full((4,4),9)\n",
    "print(B)"
   ]
  },
  {
   "cell_type": "code",
   "execution_count": 3,
   "id": "e9cf794e-6ba4-4b35-b8df-096acc37e506",
   "metadata": {},
   "outputs": [
    {
     "name": "stdout",
     "output_type": "stream",
     "text": [
      "[ 1.26204654  0.96376504  0.90473486 -0.3566593   1.35059978 -0.74603435\n",
      "  0.22388519  0.22414509  0.15419784  1.69175555]\n"
     ]
    }
   ],
   "source": [
    "C=np.random.randn(10)\n",
    "print(C)"
   ]
  },
  {
   "cell_type": "code",
   "execution_count": 4,
   "id": "aa5d1071-2b95-485d-8707-c10fdbd09d32",
   "metadata": {},
   "outputs": [
    {
     "name": "stdout",
     "output_type": "stream",
     "text": [
      "[[-0.68378763 -0.20532058  0.1290805   0.26844903]\n",
      " [ 1.17800854  0.41568811 -0.37644765 -0.61622893]\n",
      " [ 0.2324838  -0.10253226  1.15887526 -0.29742482]]\n"
     ]
    }
   ],
   "source": [
    "D=np.random.randn(3,4)\n",
    "print(D)"
   ]
  },
  {
   "cell_type": "code",
   "execution_count": 5,
   "id": "f1736450-21d1-4a8c-b391-4c1bfaa46f00",
   "metadata": {},
   "outputs": [
    {
     "name": "stdout",
     "output_type": "stream",
     "text": [
      "[2 2 4 3 1 3]\n"
     ]
    }
   ],
   "source": [
    "E=np.random.randint(1,5,6)\n",
    "print(E)"
   ]
  },
  {
   "cell_type": "code",
   "execution_count": 6,
   "id": "f7e6e4da-de70-48fb-9c85-8195d24650ec",
   "metadata": {},
   "outputs": [
    {
     "name": "stdout",
     "output_type": "stream",
     "text": [
      "[0.02085681 0.54690892 0.95260483 0.78310953 0.37009785 0.33847436]\n"
     ]
    }
   ],
   "source": [
    "import numpy as np\n",
    "F=np.random.random_sample(6)\n",
    "print(F)"
   ]
  },
  {
   "cell_type": "code",
   "execution_count": 7,
   "id": "82cfcdd1-a162-49d2-8cbf-6cc261b448a7",
   "metadata": {},
   "outputs": [
    {
     "name": "stdout",
     "output_type": "stream",
     "text": [
      "[ 0.   11.25 22.5  33.75 45.  ]\n"
     ]
    }
   ],
   "source": [
    "G=np.linspace(0,45,5)\n",
    "print(G)"
   ]
  },
  {
   "cell_type": "code",
   "execution_count": 8,
   "id": "5d7776f4-07e9-48e9-be03-bb2d771406a7",
   "metadata": {},
   "outputs": [
    {
     "name": "stdout",
     "output_type": "stream",
     "text": [
      "[ 7 12 17]\n"
     ]
    }
   ],
   "source": [
    "H=np.arange(7,19,5)\n",
    "print(H)"
   ]
  },
  {
   "cell_type": "code",
   "execution_count": 9,
   "id": "f322cbe2-d79e-4fd5-b22d-0de315b72528",
   "metadata": {},
   "outputs": [
    {
     "name": "stdout",
     "output_type": "stream",
     "text": [
      "[[[0. 0.]\n",
      "  [0. 0.]\n",
      "  [0. 0.]]\n",
      "\n",
      " [[0. 0.]\n",
      "  [0. 0.]\n",
      "  [0. 0.]]\n",
      "\n",
      " [[0. 0.]\n",
      "  [0. 0.]\n",
      "  [0. 0.]]\n",
      "\n",
      " [[0. 0.]\n",
      "  [0. 0.]\n",
      "  [0. 0.]]]\n"
     ]
    }
   ],
   "source": [
    "I=np.zeros((4,3,2))\n",
    "print(I)"
   ]
  },
  {
   "cell_type": "code",
   "execution_count": 10,
   "id": "2a46e372-025d-476b-996b-9e93bf2a31b2",
   "metadata": {},
   "outputs": [
    {
     "name": "stdout",
     "output_type": "stream",
     "text": [
      "[6 7 8]\n"
     ]
    }
   ],
   "source": [
    "test1=np.array([6,7,8], dtype='int64')\n",
    "print(test1)"
   ]
  },
  {
   "cell_type": "code",
   "execution_count": 11,
   "id": "2952814c-b374-4f55-819b-7cbe705d65df",
   "metadata": {},
   "outputs": [
    {
     "name": "stdout",
     "output_type": "stream",
     "text": [
      "[4 9 9]\n"
     ]
    }
   ],
   "source": [
    "test=np.array([4,9,9], dtype=np.int64)\n",
    "print(test)"
   ]
  },
  {
   "cell_type": "code",
   "execution_count": 12,
   "id": "269451e1-2084-464a-8cb4-cdb7e69733ca",
   "metadata": {},
   "outputs": [
    {
     "name": "stdout",
     "output_type": "stream",
     "text": [
      "[4 9 9 2]\n"
     ]
    }
   ],
   "source": [
    "U=np.append(test,2)\n",
    "print(U)"
   ]
  },
  {
   "cell_type": "code",
   "execution_count": 13,
   "id": "11912f33-2392-4dbc-9502-ed89ac0b38bc",
   "metadata": {},
   "outputs": [
    {
     "name": "stdout",
     "output_type": "stream",
     "text": [
      "[[9. 9. 9. 9. 1. 0. 0. 0.]\n",
      " [9. 9. 9. 9. 0. 1. 0. 0.]\n",
      " [9. 9. 9. 9. 0. 0. 1. 0.]\n",
      " [9. 9. 9. 9. 0. 0. 0. 1.]]\n"
     ]
    }
   ],
   "source": [
    "W=np.hstack((B,A))\n",
    "print(W)"
   ]
  },
  {
   "cell_type": "code",
   "execution_count": 14,
   "id": "1bfccb23-e2fb-490b-baa1-7fe09fdf46d0",
   "metadata": {},
   "outputs": [
    {
     "name": "stdout",
     "output_type": "stream",
     "text": [
      "[[1. 0. 0. 0.]\n",
      " [0. 1. 0. 0.]\n",
      " [0. 0. 1. 0.]\n",
      " [0. 0. 0. 1.]\n",
      " [9. 9. 9. 9.]\n",
      " [9. 9. 9. 9.]\n",
      " [9. 9. 9. 9.]\n",
      " [9. 9. 9. 9.]]\n"
     ]
    }
   ],
   "source": [
    "X=np.vstack((A,B))\n",
    "print(X)"
   ]
  },
  {
   "cell_type": "code",
   "execution_count": 15,
   "id": "e522d508-61d4-4f00-9bfd-3431bafe0624",
   "metadata": {},
   "outputs": [
    {
     "name": "stdout",
     "output_type": "stream",
     "text": [
      "[[1. 0. 0. 0.]\n",
      " [0. 1. 0. 0.]\n",
      " [0. 0. 1. 0.]\n",
      " [0. 0. 0. 1.]\n",
      " [9. 9. 9. 9.]\n",
      " [9. 9. 9. 9.]\n",
      " [9. 9. 9. 9.]\n",
      " [9. 9. 9. 9.]]\n"
     ]
    }
   ],
   "source": [
    "Q=np.concatenate((A,B),axis=0)\n",
    "print(Q)"
   ]
  },
  {
   "cell_type": "code",
   "execution_count": 16,
   "id": "ebb8c32d-c7d9-444d-b0e2-65d7b814b6bf",
   "metadata": {},
   "outputs": [
    {
     "name": "stdout",
     "output_type": "stream",
     "text": [
      "[[1. 0. 0. 0. 9. 9. 9. 9.]\n",
      " [0. 1. 0. 0. 9. 9. 9. 9.]\n",
      " [0. 0. 1. 0. 9. 9. 9. 9.]\n",
      " [0. 0. 0. 1. 9. 9. 9. 9.]]\n"
     ]
    }
   ],
   "source": [
    "Q=np.concatenate((A,B),axis=1)\n",
    "print(Q)"
   ]
  },
  {
   "cell_type": "code",
   "execution_count": 17,
   "id": "7ed199fe-4790-406a-8e31-f509cea920be",
   "metadata": {},
   "outputs": [
    {
     "name": "stdout",
     "output_type": "stream",
     "text": [
      "[0 1 2 3 4 5 6 7]\n"
     ]
    }
   ],
   "source": [
    "S=np.arange(8)\n",
    "print(S)"
   ]
  },
  {
   "cell_type": "code",
   "execution_count": 18,
   "id": "2ac8bb1f-0b27-4bfb-862a-db00f04c4b8f",
   "metadata": {},
   "outputs": [
    {
     "name": "stdout",
     "output_type": "stream",
     "text": [
      "[[0 1 2 3]\n",
      " [4 5 6 7]]\n"
     ]
    }
   ],
   "source": [
    "F=np.reshape(S,(2,4))\n",
    "print(F)"
   ]
  },
  {
   "cell_type": "code",
   "execution_count": 19,
   "id": "8d8b34e5-b60e-42a6-b824-3f6267accc0f",
   "metadata": {},
   "outputs": [
    {
     "name": "stdout",
     "output_type": "stream",
     "text": [
      "[[0 1 2 3 4]\n",
      " [5 6 7 0 1]]\n"
     ]
    }
   ],
   "source": [
    "F=np.resize(S,(2,5))\n",
    "print(F)"
   ]
  },
  {
   "cell_type": "code",
   "execution_count": 20,
   "id": "d8a99fa9-c608-4fda-805f-129d180abe40",
   "metadata": {},
   "outputs": [
    {
     "name": "stdout",
     "output_type": "stream",
     "text": [
      "[0 1 2 3 4 5 6 7 0 1]\n"
     ]
    }
   ],
   "source": [
    "print(F.ravel())"
   ]
  },
  {
   "cell_type": "code",
   "execution_count": 21,
   "id": "f32bc4f6-d5bc-403d-8e47-6bcf919ba456",
   "metadata": {},
   "outputs": [
    {
     "name": "stdout",
     "output_type": "stream",
     "text": [
      "[[4 4 4]\n",
      " [5 5 5]\n",
      " [6 6 6]\n",
      " [7 7 7]\n",
      " [8 8 8]\n",
      " [9 9 9]]\n"
     ]
    }
   ],
   "source": [
    "D=np.array([[4,4,4],[5,5,5],[6,6,6],[7,7,7],[8,8,8],[9,9,9]])\n",
    "print(D)"
   ]
  },
  {
   "cell_type": "code",
   "execution_count": 25,
   "id": "6155e99a-83db-4f3c-bcb5-d3f5a08d17bd",
   "metadata": {},
   "outputs": [
    {
     "name": "stdout",
     "output_type": "stream",
     "text": [
      "[[6 6 6]\n",
      " [7 7 7]\n",
      " [8 8 8]\n",
      " [9 9 9]\n",
      " [4 4 4]\n",
      " [5 5 5]]\n"
     ]
    }
   ],
   "source": [
    "T=np.roll(D,-2,axis=0)\n",
    "print(T)"
   ]
  },
  {
   "cell_type": "code",
   "execution_count": 26,
   "id": "b49d0ec7-8556-4669-b47e-ac79ebd5704b",
   "metadata": {},
   "outputs": [
    {
     "name": "stdout",
     "output_type": "stream",
     "text": [
      "2\n"
     ]
    }
   ],
   "source": [
    "print(S[2])"
   ]
  },
  {
   "cell_type": "code",
   "execution_count": 27,
   "id": "f4ae945b-dc3b-44a6-87e6-84489c39206d",
   "metadata": {},
   "outputs": [
    {
     "name": "stdout",
     "output_type": "stream",
     "text": [
      "3\n"
     ]
    }
   ],
   "source": [
    "print(F[0][3])"
   ]
  },
  {
   "cell_type": "code",
   "execution_count": 28,
   "id": "c7daf67e-99d9-477b-85db-63157ad48092",
   "metadata": {},
   "outputs": [
    {
     "name": "stdout",
     "output_type": "stream",
     "text": [
      "[[0 1 2 3 4]\n",
      " [5 6 7 0 1]]\n"
     ]
    }
   ],
   "source": [
    "print(F)"
   ]
  },
  {
   "cell_type": "code",
   "execution_count": 29,
   "id": "84ee4d88-7101-4acf-bb1e-db5e78a041fd",
   "metadata": {},
   "outputs": [
    {
     "name": "stdout",
     "output_type": "stream",
     "text": [
      "[[1 2]\n",
      " [6 7]]\n"
     ]
    }
   ],
   "source": [
    "print(F[0:2, 1:3])"
   ]
  },
  {
   "cell_type": "code",
   "execution_count": 30,
   "id": "1f794570-4ec9-4685-90ff-08f77d736bef",
   "metadata": {},
   "outputs": [
    {
     "name": "stdout",
     "output_type": "stream",
     "text": [
      "[[6 6]\n",
      " [7 7]\n",
      " [8 8]\n",
      " [9 9]\n",
      " [4 4]\n",
      " [5 5]]\n"
     ]
    }
   ],
   "source": [
    "print(T[:,0:2])"
   ]
  },
  {
   "cell_type": "code",
   "execution_count": 31,
   "id": "89eb2b1c-a321-4d86-a8f5-2a0ad61df51c",
   "metadata": {},
   "outputs": [
    {
     "name": "stdout",
     "output_type": "stream",
     "text": [
      "[[6 6]\n",
      " [7 7]]\n"
     ]
    }
   ],
   "source": [
    "print(T[0:2, 0:2])"
   ]
  },
  {
   "cell_type": "code",
   "execution_count": 32,
   "id": "4a033534-63ee-4d33-947b-df7935d44bdd",
   "metadata": {},
   "outputs": [
    {
     "name": "stdout",
     "output_type": "stream",
     "text": [
      "[[6 6]\n",
      " [7 7]\n",
      " [8 8]\n",
      " [9 9]\n",
      " [4 4]\n",
      " [5 5]]\n"
     ]
    }
   ],
   "source": [
    "print(T[:,-2:])"
   ]
  },
  {
   "cell_type": "code",
   "execution_count": 33,
   "id": "d0d9af50-427c-443b-a075-f0ceb1dc9df2",
   "metadata": {},
   "outputs": [
    {
     "name": "stdout",
     "output_type": "stream",
     "text": [
      "[[ 1  2  3  6]\n",
      " [ 4  5  6  7]\n",
      " [ 7  8  9 10]\n",
      " [10 11 12  2]]\n"
     ]
    }
   ],
   "source": [
    "D=np.array([[1,2,3,6],[4,5,6,7],[7,8,9,10],[10,11,12,2]])\n",
    "print(D)"
   ]
  },
  {
   "cell_type": "code",
   "execution_count": 34,
   "id": "4d6f17b6-aa1c-4c9e-9274-3463822db9bf",
   "metadata": {},
   "outputs": [
    {
     "name": "stdout",
     "output_type": "stream",
     "text": [
      "[[ 3  3  3  6]\n",
      " [ 3  3  6  7]\n",
      " [ 7  8  9 10]\n",
      " [10 11 12  2]]\n"
     ]
    }
   ],
   "source": [
    "D[0:2:1,0:2:1]=3\n",
    "print(D)"
   ]
  },
  {
   "cell_type": "code",
   "execution_count": 35,
   "id": "70c46885-1fbc-408d-8c7d-4ae5af62654e",
   "metadata": {},
   "outputs": [
    {
     "name": "stdout",
     "output_type": "stream",
     "text": [
      "[[ 0  1  2  3]\n",
      " [ 4  5  6  7]\n",
      " [ 8  9 10 11]\n",
      " [12 13 14 15]]\n"
     ]
    }
   ],
   "source": [
    "import numpy as np\n",
    "R=np.arange(16).reshape((4,4))\n",
    "print(R)"
   ]
  },
  {
   "cell_type": "code",
   "execution_count": 36,
   "id": "93111a87-2a07-481e-a3fc-2751450b7894",
   "metadata": {},
   "outputs": [
    {
     "name": "stdout",
     "output_type": "stream",
     "text": [
      "[24 28 32 36]\n"
     ]
    }
   ],
   "source": [
    "S=R.sum(axis=0)\n",
    "print(S)"
   ]
  },
  {
   "cell_type": "code",
   "execution_count": 37,
   "id": "e57b9ccf-ed9a-46af-b3dd-bb31daec7e5b",
   "metadata": {},
   "outputs": [
    {
     "name": "stdout",
     "output_type": "stream",
     "text": [
      "[ 6 22 38 54]\n"
     ]
    }
   ],
   "source": [
    "F=R.sum(axis=1)\n",
    "print(F)"
   ]
  },
  {
   "cell_type": "code",
   "execution_count": 38,
   "id": "31c7e329-03bb-4114-95b6-039f9b60a9c9",
   "metadata": {},
   "outputs": [
    {
     "name": "stdout",
     "output_type": "stream",
     "text": [
      "[[4 1 9 7]\n",
      " [6 9 9 8]\n",
      " [8 1 3 6]]\n"
     ]
    }
   ],
   "source": [
    "G=np.random.randint(1,10,[3,4])\n",
    "print(G)"
   ]
  },
  {
   "cell_type": "code",
   "execution_count": 39,
   "id": "8990ef71-6db7-46d5-aa6c-3f6d0bab5194",
   "metadata": {},
   "outputs": [
    {
     "name": "stdout",
     "output_type": "stream",
     "text": [
      "[[ 4  5 14 21]\n",
      " [ 6 15 24 32]\n",
      " [ 8  9 12 18]]\n"
     ]
    }
   ],
   "source": [
    "H=G.cumsum(axis=1)\n",
    "print(H)"
   ]
  },
  {
   "cell_type": "code",
   "execution_count": 40,
   "id": "11d6e5c1-cfa6-4415-9906-db169610cd31",
   "metadata": {},
   "outputs": [
    {
     "name": "stdout",
     "output_type": "stream",
     "text": [
      "[192   9 243 336]\n"
     ]
    }
   ],
   "source": [
    "J=G.prod(axis=0)\n",
    "print(J)"
   ]
  },
  {
   "cell_type": "code",
   "execution_count": 41,
   "id": "b316403a-21c4-4897-8b76-3491960e2bac",
   "metadata": {},
   "outputs": [
    {
     "name": "stdout",
     "output_type": "stream",
     "text": [
      "None\n"
     ]
    }
   ],
   "source": [
    "print(G.sort(axis=0))"
   ]
  },
  {
   "cell_type": "code",
   "execution_count": 42,
   "id": "9838a688-d3e0-4af2-a295-8e322db9a1a7",
   "metadata": {},
   "outputs": [
    {
     "data": {
      "text/plain": [
       "array([[4, 1, 3, 6],\n",
       "       [6, 1, 4, 7],\n",
       "       [8, 9, 9, 8]])"
      ]
     },
     "execution_count": 42,
     "metadata": {},
     "output_type": "execute_result"
    }
   ],
   "source": [
    "G[1,2]=4\n",
    "G\n"
   ]
  },
  {
   "cell_type": "code",
   "execution_count": 43,
   "id": "d415cdf4-9356-4647-b185-550077cd61dc",
   "metadata": {},
   "outputs": [
    {
     "name": "stdout",
     "output_type": "stream",
     "text": [
      "[[1 2 0 3]\n",
      " [1 2 0 3]\n",
      " [0 3 1 2]]\n"
     ]
    }
   ],
   "source": [
    "print(G.argsort(axis=1))"
   ]
  },
  {
   "cell_type": "code",
   "execution_count": 44,
   "id": "9f0ee5c4-a6bf-4316-baa0-bbadb7705fbd",
   "metadata": {},
   "outputs": [
    {
     "data": {
      "text/plain": [
       "array([[4, 1, 3, 6],\n",
       "       [6, 1, 4, 7],\n",
       "       [8, 9, 9, 8]])"
      ]
     },
     "execution_count": 44,
     "metadata": {},
     "output_type": "execute_result"
    }
   ],
   "source": [
    "G"
   ]
  },
  {
   "cell_type": "code",
   "execution_count": 45,
   "id": "08829109-3df7-4209-8f42-97d910361a6a",
   "metadata": {},
   "outputs": [
    {
     "data": {
      "text/plain": [
       "array([[4, 1, 3, 6],\n",
       "       [6, 1, 4, 7],\n",
       "       [8, 9, 9, 8]])"
      ]
     },
     "execution_count": 45,
     "metadata": {},
     "output_type": "execute_result"
    }
   ],
   "source": [
    "G.sort(axis=0)\n",
    "G"
   ]
  },
  {
   "cell_type": "code",
   "execution_count": 46,
   "id": "1195f6a7-ddd9-4449-8684-ae418268f79a",
   "metadata": {},
   "outputs": [
    {
     "name": "stdout",
     "output_type": "stream",
     "text": [
      "[[6 6 2 3]\n",
      " [9 5 4 6]\n",
      " [7 6 3 8]]\n"
     ]
    }
   ],
   "source": [
    "T=np.random.randint(1,10,[3,4])\n",
    "print(T)"
   ]
  },
  {
   "cell_type": "code",
   "execution_count": 47,
   "id": "c21dc317-4700-46ac-8e94-86974f1a8b7c",
   "metadata": {},
   "outputs": [
    {
     "name": "stdout",
     "output_type": "stream",
     "text": [
      "[[1.         0.59878495 0.44908871]\n",
      " [0.59878495 1.         0.64285714]\n",
      " [0.44908871 0.64285714 1.        ]]\n"
     ]
    }
   ],
   "source": [
    "L=np.corrcoef(T)\n",
    "print(L)"
   ]
  },
  {
   "cell_type": "code",
   "execution_count": 48,
   "id": "1dd927db-8482-480d-b9bd-859825902d8a",
   "metadata": {},
   "outputs": [
    {
     "data": {
      "text/plain": [
       "array([[6, 6, 2, 3],\n",
       "       [7, 6, 3, 8],\n",
       "       [9, 5, 4, 6]])"
      ]
     },
     "execution_count": 48,
     "metadata": {},
     "output_type": "execute_result"
    }
   ],
   "source": [
    "K=np.unique(T,axis=0)\n",
    "K"
   ]
  },
  {
   "cell_type": "code",
   "execution_count": 49,
   "id": "92526bf4-7c63-449b-9b8e-88029e25e19e",
   "metadata": {},
   "outputs": [
    {
     "data": {
      "text/plain": [
       "array([[6, 6, 2, 3],\n",
       "       [9, 5, 4, 6],\n",
       "       [7, 6, 3, 8]])"
      ]
     },
     "execution_count": 49,
     "metadata": {},
     "output_type": "execute_result"
    }
   ],
   "source": [
    "T[np.isnan(T)]=0\n",
    "T"
   ]
  },
  {
   "cell_type": "code",
   "execution_count": 50,
   "id": "ceeb432d-9ffd-42cc-8683-43884b2c96f2",
   "metadata": {},
   "outputs": [
    {
     "data": {
      "text/plain": [
       "array([[False, False, False, False],\n",
       "       [False, False, False, False],\n",
       "       [False, False, False, False]])"
      ]
     },
     "execution_count": 50,
     "metadata": {},
     "output_type": "execute_result"
    }
   ],
   "source": [
    "np.isnan(T)"
   ]
  },
  {
   "cell_type": "code",
   "execution_count": 51,
   "id": "6b79688c-0095-4567-aed9-e2e7622c902b",
   "metadata": {},
   "outputs": [
    {
     "name": "stdout",
     "output_type": "stream",
     "text": [
      "[[ 4.  4.  4.]\n",
      " [ 5. nan  5.]\n",
      " [ 6.  6.  6.]\n",
      " [ 7. nan  7.]]\n"
     ]
    }
   ],
   "source": [
    "D=np.array([[4,4,4],[5,np.nan,5],[6,6,6],[7,np.nan,7]])\n",
    "print(D)"
   ]
  },
  {
   "cell_type": "code",
   "execution_count": 52,
   "id": "45b8086c-996d-468b-b00a-1d79c898e208",
   "metadata": {},
   "outputs": [
    {
     "data": {
      "text/plain": [
       "5.4"
      ]
     },
     "execution_count": 52,
     "metadata": {},
     "output_type": "execute_result"
    }
   ],
   "source": [
    "np.nanmean(D)"
   ]
  },
  {
   "cell_type": "code",
   "execution_count": 53,
   "id": "d43055eb-1a01-4d73-b729-9b0bb2279443",
   "metadata": {},
   "outputs": [
    {
     "name": "stdout",
     "output_type": "stream",
     "text": [
      "[[4 4 4]\n",
      " [5 5 5]\n",
      " [6 6 6]\n",
      " [7 7 7]]\n"
     ]
    }
   ],
   "source": [
    "D=np.array([[4,4,4],[5,5,5],[6,6,6],[7,7,7]])\n",
    "print(D)"
   ]
  },
  {
   "cell_type": "code",
   "execution_count": 54,
   "id": "4653d892-781f-44e9-aef7-3fbb44185f83",
   "metadata": {},
   "outputs": [
    {
     "data": {
      "text/plain": [
       "5.5"
      ]
     },
     "execution_count": 54,
     "metadata": {},
     "output_type": "execute_result"
    }
   ],
   "source": [
    "np.mean(D)"
   ]
  },
  {
   "cell_type": "code",
   "execution_count": 55,
   "id": "98cff810-e51d-47bb-ba04-fe77a0285115",
   "metadata": {},
   "outputs": [
    {
     "name": "stdout",
     "output_type": "stream",
     "text": [
      "[[ 64  64  64]\n",
      " [125 125 125]\n",
      " [216 216 216]\n",
      " [343 343 343]]\n"
     ]
    }
   ],
   "source": [
    "print(D**3)"
   ]
  },
  {
   "cell_type": "code",
   "execution_count": 56,
   "id": "03596400-b960-47a8-82eb-9b4c3bd184c7",
   "metadata": {},
   "outputs": [
    {
     "name": "stdout",
     "output_type": "stream",
     "text": [
      "[[ 5.65685425  5.65685425  5.65685425]\n",
      " [ 7.47674391  7.47674391  7.47674391]\n",
      " [ 9.39050748  9.39050748  9.39050748]\n",
      " [11.38603593 11.38603593 11.38603593]]\n"
     ]
    }
   ],
   "source": [
    "print(D*(D**(1/4)))"
   ]
  },
  {
   "cell_type": "code",
   "execution_count": null,
   "id": "b75f3786-f2bc-44e0-b04d-aa6135f7d1b8",
   "metadata": {},
   "outputs": [],
   "source": []
  }
 ],
 "metadata": {
  "kernelspec": {
   "display_name": "Python 3 (ipykernel)",
   "language": "python",
   "name": "python3"
  },
  "language_info": {
   "codemirror_mode": {
    "name": "ipython",
    "version": 3
   },
   "file_extension": ".py",
   "mimetype": "text/x-python",
   "name": "python",
   "nbconvert_exporter": "python",
   "pygments_lexer": "ipython3",
   "version": "3.12.7"
  }
 },
 "nbformat": 4,
 "nbformat_minor": 5
}
