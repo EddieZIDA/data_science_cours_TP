{
 "cells": [
  {
   "cell_type": "code",
   "execution_count": 1,
   "id": "97c759bb-2fe1-4c89-b9b5-d1c9f79431f1",
   "metadata": {},
   "outputs": [
    {
     "name": "stdout",
     "output_type": "stream",
     "text": [
      "[[1. 0. 0. 0.]\n",
      " [0. 1. 0. 0.]\n",
      " [0. 0. 1. 0.]\n",
      " [0. 0. 0. 1.]]\n"
     ]
    }
   ],
   "source": [
    "import numpy as np\n",
    "A=np.eye(4)\n",
    "print(A)"
   ]
  },
  {
   "cell_type": "code",
   "execution_count": 32,
   "id": "7845b947-d269-47fa-b79f-8d997f924386",
   "metadata": {},
   "outputs": [
    {
     "name": "stdout",
     "output_type": "stream",
     "text": [
      "[[9 9 9 9]\n",
      " [9 9 9 9]\n",
      " [9 9 9 9]\n",
      " [9 9 9 9]]\n"
     ]
    }
   ],
   "source": [
    "B=np.full((4,4),9)\n",
    "print(B)"
   ]
  },
  {
   "cell_type": "code",
   "execution_count": 33,
   "id": "e9cf794e-6ba4-4b35-b8df-096acc37e506",
   "metadata": {},
   "outputs": [
    {
     "name": "stdout",
     "output_type": "stream",
     "text": [
      "[-0.74921632 -1.59780475  1.91721558  0.04250218 -0.00817937  0.61021665\n",
      "  1.58220742  0.74560253  1.42206049  0.40218693]\n"
     ]
    }
   ],
   "source": [
    "C=np.random.randn(10)\n",
    "print(C)"
   ]
  },
  {
   "cell_type": "code",
   "execution_count": 34,
   "id": "aa5d1071-2b95-485d-8707-c10fdbd09d32",
   "metadata": {},
   "outputs": [
    {
     "name": "stdout",
     "output_type": "stream",
     "text": [
      "[[ 0.8480399   0.00179317  0.91015942  0.37223825]\n",
      " [ 0.90895925 -0.37478651  0.38233325  0.17710237]\n",
      " [-0.18231419  0.18754845  0.38815409  0.77306612]]\n"
     ]
    }
   ],
   "source": [
    "D=np.random.randn(3,4)\n",
    "print(D)"
   ]
  },
  {
   "cell_type": "code",
   "execution_count": 35,
   "id": "f1736450-21d1-4a8c-b391-4c1bfaa46f00",
   "metadata": {},
   "outputs": [
    {
     "name": "stdout",
     "output_type": "stream",
     "text": [
      "[4 2 2 1 3 4]\n"
     ]
    }
   ],
   "source": [
    "E=np.random.randint(1,5,6)\n",
    "print(E)"
   ]
  },
  {
   "cell_type": "code",
   "execution_count": 36,
   "id": "f7e6e4da-de70-48fb-9c85-8195d24650ec",
   "metadata": {},
   "outputs": [
    {
     "name": "stdout",
     "output_type": "stream",
     "text": [
      "[0.31133213 0.1241817  0.47432298 0.41552446 0.29868833 0.0475472 ]\n"
     ]
    }
   ],
   "source": [
    "import numpy as np\n",
    "F=np.random.random_sample(6)\n",
    "print(F)"
   ]
  },
  {
   "cell_type": "code",
   "execution_count": 37,
   "id": "82cfcdd1-a162-49d2-8cbf-6cc261b448a7",
   "metadata": {},
   "outputs": [
    {
     "name": "stdout",
     "output_type": "stream",
     "text": [
      "[ 0.   11.25 22.5  33.75 45.  ]\n"
     ]
    }
   ],
   "source": [
    "G=np.linspace(0,45,5)\n",
    "print(G)"
   ]
  },
  {
   "cell_type": "code",
   "execution_count": 38,
   "id": "5d7776f4-07e9-48e9-be03-bb2d771406a7",
   "metadata": {},
   "outputs": [
    {
     "name": "stdout",
     "output_type": "stream",
     "text": [
      "[ 7 12 17]\n"
     ]
    }
   ],
   "source": [
    "H=np.arange(7,19,5)\n",
    "print(H)"
   ]
  },
  {
   "cell_type": "code",
   "execution_count": 39,
   "id": "f322cbe2-d79e-4fd5-b22d-0de315b72528",
   "metadata": {},
   "outputs": [
    {
     "name": "stdout",
     "output_type": "stream",
     "text": [
      "[[[0. 0.]\n",
      "  [0. 0.]\n",
      "  [0. 0.]]\n",
      "\n",
      " [[0. 0.]\n",
      "  [0. 0.]\n",
      "  [0. 0.]]\n",
      "\n",
      " [[0. 0.]\n",
      "  [0. 0.]\n",
      "  [0. 0.]]\n",
      "\n",
      " [[0. 0.]\n",
      "  [0. 0.]\n",
      "  [0. 0.]]]\n"
     ]
    }
   ],
   "source": [
    "I=np.zeros((4,3,2))\n",
    "print(I)"
   ]
  },
  {
   "cell_type": "code",
   "execution_count": 40,
   "id": "2a46e372-025d-476b-996b-9e93bf2a31b2",
   "metadata": {},
   "outputs": [
    {
     "name": "stdout",
     "output_type": "stream",
     "text": [
      "[6 7 8]\n"
     ]
    }
   ],
   "source": [
    "test1=np.array([6,7,8], dtype='int64')\n",
    "print(test1)"
   ]
  },
  {
   "cell_type": "code",
   "execution_count": 41,
   "id": "2952814c-b374-4f55-819b-7cbe705d65df",
   "metadata": {},
   "outputs": [
    {
     "name": "stdout",
     "output_type": "stream",
     "text": [
      "[4 9 9]\n"
     ]
    }
   ],
   "source": [
    "test=np.array([4,9,9], dtype=np.int64)\n",
    "print(test)"
   ]
  },
  {
   "cell_type": "code",
   "execution_count": 42,
   "id": "269451e1-2084-464a-8cb4-cdb7e69733ca",
   "metadata": {},
   "outputs": [
    {
     "name": "stdout",
     "output_type": "stream",
     "text": [
      "[4 9 9 2]\n"
     ]
    }
   ],
   "source": [
    "U=np.append(test,2)\n",
    "print(U)"
   ]
  },
  {
   "cell_type": "code",
   "execution_count": 43,
   "id": "11912f33-2392-4dbc-9502-ed89ac0b38bc",
   "metadata": {},
   "outputs": [
    {
     "name": "stdout",
     "output_type": "stream",
     "text": [
      "[[9. 9. 9. 9. 1. 0. 0. 0.]\n",
      " [9. 9. 9. 9. 0. 1. 0. 0.]\n",
      " [9. 9. 9. 9. 0. 0. 1. 0.]\n",
      " [9. 9. 9. 9. 0. 0. 0. 1.]]\n"
     ]
    }
   ],
   "source": [
    "W=np.hstack((B,A))\n",
    "print(W)"
   ]
  },
  {
   "cell_type": "code",
   "execution_count": 44,
   "id": "1bfccb23-e2fb-490b-baa1-7fe09fdf46d0",
   "metadata": {},
   "outputs": [
    {
     "name": "stdout",
     "output_type": "stream",
     "text": [
      "[[1. 0. 0. 0.]\n",
      " [0. 1. 0. 0.]\n",
      " [0. 0. 1. 0.]\n",
      " [0. 0. 0. 1.]\n",
      " [9. 9. 9. 9.]\n",
      " [9. 9. 9. 9.]\n",
      " [9. 9. 9. 9.]\n",
      " [9. 9. 9. 9.]]\n"
     ]
    }
   ],
   "source": [
    "X=np.vstack((A,B))\n",
    "print(X)"
   ]
  },
  {
   "cell_type": "code",
   "execution_count": 45,
   "id": "e522d508-61d4-4f00-9bfd-3431bafe0624",
   "metadata": {},
   "outputs": [
    {
     "name": "stdout",
     "output_type": "stream",
     "text": [
      "[[1. 0. 0. 0.]\n",
      " [0. 1. 0. 0.]\n",
      " [0. 0. 1. 0.]\n",
      " [0. 0. 0. 1.]\n",
      " [9. 9. 9. 9.]\n",
      " [9. 9. 9. 9.]\n",
      " [9. 9. 9. 9.]\n",
      " [9. 9. 9. 9.]]\n"
     ]
    }
   ],
   "source": [
    "Q=np.concatenate((A,B),axis=0)\n",
    "print(Q)"
   ]
  },
  {
   "cell_type": "code",
   "execution_count": 46,
   "id": "ebb8c32d-c7d9-444d-b0e2-65d7b814b6bf",
   "metadata": {},
   "outputs": [
    {
     "name": "stdout",
     "output_type": "stream",
     "text": [
      "[[1. 0. 0. 0. 9. 9. 9. 9.]\n",
      " [0. 1. 0. 0. 9. 9. 9. 9.]\n",
      " [0. 0. 1. 0. 9. 9. 9. 9.]\n",
      " [0. 0. 0. 1. 9. 9. 9. 9.]]\n"
     ]
    }
   ],
   "source": [
    "Q=np.concatenate((A,B),axis=1)\n",
    "print(Q)"
   ]
  },
  {
   "cell_type": "code",
   "execution_count": 47,
   "id": "7ed199fe-4790-406a-8e31-f509cea920be",
   "metadata": {},
   "outputs": [
    {
     "name": "stdout",
     "output_type": "stream",
     "text": [
      "[0 1 2 3 4 5 6 7]\n"
     ]
    }
   ],
   "source": [
    "S=np.arange(8)\n",
    "print(S)"
   ]
  },
  {
   "cell_type": "code",
   "execution_count": 54,
   "id": "2ac8bb1f-0b27-4bfb-862a-db00f04c4b8f",
   "metadata": {},
   "outputs": [
    {
     "name": "stdout",
     "output_type": "stream",
     "text": [
      "[[0 1 2 3]\n",
      " [4 5 6 7]]\n"
     ]
    }
   ],
   "source": [
    "F=np.reshape(S,(2,4))\n",
    "print(F)"
   ]
  },
  {
   "cell_type": "code",
   "execution_count": 55,
   "id": "8d8b34e5-b60e-42a6-b824-3f6267accc0f",
   "metadata": {},
   "outputs": [
    {
     "name": "stdout",
     "output_type": "stream",
     "text": [
      "[[0 1 2 3 4]\n",
      " [5 6 7 0 1]]\n"
     ]
    }
   ],
   "source": [
    "F=np.resize(S,(2,5))\n",
    "print(F)"
   ]
  },
  {
   "cell_type": "code",
   "execution_count": 56,
   "id": "d8a99fa9-c608-4fda-805f-129d180abe40",
   "metadata": {},
   "outputs": [
    {
     "name": "stdout",
     "output_type": "stream",
     "text": [
      "[0 1 2 3 4 5 6 7 0 1]\n"
     ]
    }
   ],
   "source": [
    "print(F.ravel())"
   ]
  },
  {
   "cell_type": "code",
   "execution_count": 58,
   "id": "f32bc4f6-d5bc-403d-8e47-6bcf919ba456",
   "metadata": {},
   "outputs": [
    {
     "name": "stdout",
     "output_type": "stream",
     "text": [
      "[[4 4 4]\n",
      " [5 5 5]\n",
      " [6 6 6]\n",
      " [7 7 7]\n",
      " [8 8 8]\n",
      " [9 9 9]]\n"
     ]
    }
   ],
   "source": [
    "D=np.array([[4,4,4],[5,5,5],[6,6,6],[7,7,7],[8,8,8],[9,9,9]])\n",
    "print(D)"
   ]
  },
  {
   "cell_type": "code",
   "execution_count": 59,
   "id": "6155e99a-83db-4f3c-bcb5-d3f5a08d17bd",
   "metadata": {},
   "outputs": [
    {
     "name": "stdout",
     "output_type": "stream",
     "text": [
      "[[6 6 6]\n",
      " [7 7 7]\n",
      " [8 8 8]\n",
      " [9 9 9]\n",
      " [4 4 4]\n",
      " [5 5 5]]\n"
     ]
    }
   ],
   "source": [
    "T=np.roll(D,-2,axis=0)\n",
    "print(T)"
   ]
  },
  {
   "cell_type": "code",
   "execution_count": 61,
   "id": "b49d0ec7-8556-4669-b47e-ac79ebd5704b",
   "metadata": {},
   "outputs": [
    {
     "name": "stdout",
     "output_type": "stream",
     "text": [
      "2\n"
     ]
    }
   ],
   "source": [
    "print(S[2])"
   ]
  },
  {
   "cell_type": "code",
   "execution_count": 65,
   "id": "f4ae945b-dc3b-44a6-87e6-84489c39206d",
   "metadata": {},
   "outputs": [
    {
     "name": "stdout",
     "output_type": "stream",
     "text": [
      "3\n"
     ]
    }
   ],
   "source": [
    "print(F[0][3])"
   ]
  },
  {
   "cell_type": "code",
   "execution_count": 69,
   "id": "c7daf67e-99d9-477b-85db-63157ad48092",
   "metadata": {},
   "outputs": [
    {
     "name": "stdout",
     "output_type": "stream",
     "text": [
      "[[0 1 2 3 4]\n",
      " [5 6 7 0 1]]\n"
     ]
    }
   ],
   "source": [
    "print(F)"
   ]
  },
  {
   "cell_type": "code",
   "execution_count": 70,
   "id": "84ee4d88-7101-4acf-bb1e-db5e78a041fd",
   "metadata": {},
   "outputs": [
    {
     "name": "stdout",
     "output_type": "stream",
     "text": [
      "[[1 2]\n",
      " [6 7]]\n"
     ]
    }
   ],
   "source": [
    "print(F[0:2, 1:3])"
   ]
  },
  {
   "cell_type": "code",
   "execution_count": 71,
   "id": "1f794570-4ec9-4685-90ff-08f77d736bef",
   "metadata": {},
   "outputs": [
    {
     "name": "stdout",
     "output_type": "stream",
     "text": [
      "[[6 6]\n",
      " [7 7]\n",
      " [8 8]\n",
      " [9 9]\n",
      " [4 4]\n",
      " [5 5]]\n"
     ]
    }
   ],
   "source": [
    "print(T[:,0:2])"
   ]
  },
  {
   "cell_type": "code",
   "execution_count": 73,
   "id": "89eb2b1c-a321-4d86-a8f5-2a0ad61df51c",
   "metadata": {},
   "outputs": [
    {
     "name": "stdout",
     "output_type": "stream",
     "text": [
      "[[6 6]\n",
      " [7 7]]\n"
     ]
    }
   ],
   "source": [
    "print(T[0:2, 0:2])"
   ]
  },
  {
   "cell_type": "code",
   "execution_count": 75,
   "id": "4a033534-63ee-4d33-947b-df7935d44bdd",
   "metadata": {},
   "outputs": [
    {
     "name": "stdout",
     "output_type": "stream",
     "text": [
      "[[6 6]\n",
      " [7 7]\n",
      " [8 8]\n",
      " [9 9]\n",
      " [4 4]\n",
      " [5 5]]\n"
     ]
    }
   ],
   "source": [
    "print(T[:,-2:])"
   ]
  },
  {
   "cell_type": "code",
   "execution_count": 78,
   "id": "d0d9af50-427c-443b-a075-f0ceb1dc9df2",
   "metadata": {},
   "outputs": [
    {
     "name": "stdout",
     "output_type": "stream",
     "text": [
      "[[ 1  2  3  6]\n",
      " [ 4  5  6  7]\n",
      " [ 7  8  9 10]\n",
      " [10 11 12  2]]\n"
     ]
    }
   ],
   "source": [
    "D=np.array([[1,2,3,6],[4,5,6,7],[7,8,9,10],[10,11,12,2]])\n",
    "print(D)"
   ]
  },
  {
   "cell_type": "code",
   "execution_count": 81,
   "id": "4d6f17b6-aa1c-4c9e-9274-3463822db9bf",
   "metadata": {},
   "outputs": [
    {
     "name": "stdout",
     "output_type": "stream",
     "text": [
      "[[ 3  3  3  6]\n",
      " [ 3  3  6  7]\n",
      " [ 7  8  9 10]\n",
      " [10 11 12  2]]\n"
     ]
    }
   ],
   "source": [
    "D[0:2:1,0:2:1]=3\n",
    "print(D)"
   ]
  },
  {
   "cell_type": "code",
   "execution_count": 1,
   "id": "70c46885-1fbc-408d-8c7d-4ae5af62654e",
   "metadata": {},
   "outputs": [
    {
     "name": "stdout",
     "output_type": "stream",
     "text": [
      "[[ 0  1  2  3]\n",
      " [ 4  5  6  7]\n",
      " [ 8  9 10 11]\n",
      " [12 13 14 15]]\n"
     ]
    }
   ],
   "source": [
    "import numpy as np\n",
    "R=np.arange(16).reshape((4,4))\n",
    "print(R)"
   ]
  },
  {
   "cell_type": "code",
   "execution_count": 2,
   "id": "93111a87-2a07-481e-a3fc-2751450b7894",
   "metadata": {},
   "outputs": [
    {
     "name": "stdout",
     "output_type": "stream",
     "text": [
      "[24 28 32 36]\n"
     ]
    }
   ],
   "source": [
    "S=R.sum(axis=0)\n",
    "print(S)"
   ]
  },
  {
   "cell_type": "code",
   "execution_count": 3,
   "id": "e57b9ccf-ed9a-46af-b3dd-bb31daec7e5b",
   "metadata": {},
   "outputs": [
    {
     "name": "stdout",
     "output_type": "stream",
     "text": [
      "[ 6 22 38 54]\n"
     ]
    }
   ],
   "source": [
    "F=R.sum(axis=1)\n",
    "print(F)"
   ]
  },
  {
   "cell_type": "code",
   "execution_count": 29,
   "id": "31c7e329-03bb-4114-95b6-039f9b60a9c9",
   "metadata": {},
   "outputs": [
    {
     "name": "stdout",
     "output_type": "stream",
     "text": [
      "[[6 2 9 9]\n",
      " [2 6 8 6]\n",
      " [1 2 3 2]]\n"
     ]
    }
   ],
   "source": [
    "G=np.random.randint(1,10,[3,4])\n",
    "print(G)"
   ]
  },
  {
   "cell_type": "code",
   "execution_count": 30,
   "id": "8990ef71-6db7-46d5-aa6c-3f6d0bab5194",
   "metadata": {},
   "outputs": [
    {
     "name": "stdout",
     "output_type": "stream",
     "text": [
      "[[ 6  8 17 26]\n",
      " [ 2  8 16 22]\n",
      " [ 1  3  6  8]]\n"
     ]
    }
   ],
   "source": [
    "H=G.cumsum(axis=1)\n",
    "print(H)"
   ]
  },
  {
   "cell_type": "code",
   "execution_count": 31,
   "id": "11d6e5c1-cfa6-4415-9906-db169610cd31",
   "metadata": {},
   "outputs": [
    {
     "name": "stdout",
     "output_type": "stream",
     "text": [
      "[ 12  24 216 108]\n"
     ]
    }
   ],
   "source": [
    "J=G.prod(axis=0)\n",
    "print(J)"
   ]
  },
  {
   "cell_type": "code",
   "execution_count": 32,
   "id": "b316403a-21c4-4897-8b76-3491960e2bac",
   "metadata": {},
   "outputs": [
    {
     "name": "stdout",
     "output_type": "stream",
     "text": [
      "None\n"
     ]
    }
   ],
   "source": [
    "print(G.sort(axis=0))"
   ]
  },
  {
   "cell_type": "code",
   "execution_count": 41,
   "id": "9838a688-d3e0-4af2-a295-8e322db9a1a7",
   "metadata": {},
   "outputs": [
    {
     "data": {
      "text/plain": [
       "array([[2, 6, 1, 9],\n",
       "       [2, 0, 4, 8],\n",
       "       [1, 2, 2, 3]])"
      ]
     },
     "execution_count": 41,
     "metadata": {},
     "output_type": "execute_result"
    }
   ],
   "source": [
    "G[1,2]=4\n",
    "G\n"
   ]
  },
  {
   "cell_type": "code",
   "execution_count": 42,
   "id": "d415cdf4-9356-4647-b185-550077cd61dc",
   "metadata": {},
   "outputs": [
    {
     "name": "stdout",
     "output_type": "stream",
     "text": [
      "[[2 0 1 3]\n",
      " [1 0 2 3]\n",
      " [0 1 2 3]]\n"
     ]
    }
   ],
   "source": [
    "print(G.argsort(axis=1))"
   ]
  },
  {
   "cell_type": "code",
   "execution_count": 44,
   "id": "9f0ee5c4-a6bf-4316-baa0-bbadb7705fbd",
   "metadata": {},
   "outputs": [
    {
     "data": {
      "text/plain": [
       "array([[2, 6, 1, 9],\n",
       "       [2, 0, 4, 8],\n",
       "       [1, 2, 2, 3]])"
      ]
     },
     "execution_count": 44,
     "metadata": {},
     "output_type": "execute_result"
    }
   ],
   "source": [
    "G"
   ]
  },
  {
   "cell_type": "code",
   "execution_count": 46,
   "id": "08829109-3df7-4209-8f42-97d910361a6a",
   "metadata": {},
   "outputs": [
    {
     "data": {
      "text/plain": [
       "array([[1, 0, 1, 3],\n",
       "       [2, 2, 2, 8],\n",
       "       [2, 6, 4, 9]])"
      ]
     },
     "execution_count": 46,
     "metadata": {},
     "output_type": "execute_result"
    }
   ],
   "source": [
    "G.sort(axis=0)\n",
    "G"
   ]
  },
  {
   "cell_type": "code",
   "execution_count": 47,
   "id": "1195f6a7-ddd9-4449-8684-ae418268f79a",
   "metadata": {},
   "outputs": [
    {
     "name": "stdout",
     "output_type": "stream",
     "text": [
      "[[5 5 8 6]\n",
      " [8 9 4 4]\n",
      " [5 3 8 2]]\n"
     ]
    }
   ],
   "source": [
    "T=np.random.randint(1,10,[3,4])\n",
    "print(T)"
   ]
  },
  {
   "cell_type": "code",
   "execution_count": 48,
   "id": "c21dc317-4700-46ac-8e94-86974f1a8b7c",
   "metadata": {},
   "outputs": [
    {
     "name": "stdout",
     "output_type": "stream",
     "text": [
      "[[ 1.         -0.80659929  0.71269665]\n",
      " [-0.80659929  1.         -0.26347778]\n",
      " [ 0.71269665 -0.26347778  1.        ]]\n"
     ]
    }
   ],
   "source": [
    "L=np.corrcoef(T)\n",
    "print(L)"
   ]
  },
  {
   "cell_type": "code",
   "execution_count": 49,
   "id": "1dd927db-8482-480d-b9bd-859825902d8a",
   "metadata": {},
   "outputs": [
    {
     "data": {
      "text/plain": [
       "array([[5, 3, 8, 2],\n",
       "       [5, 5, 8, 6],\n",
       "       [8, 9, 4, 4]])"
      ]
     },
     "execution_count": 49,
     "metadata": {},
     "output_type": "execute_result"
    }
   ],
   "source": [
    "K=np.unique(T,axis=0)\n",
    "K"
   ]
  },
  {
   "cell_type": "code",
   "execution_count": 51,
   "id": "92526bf4-7c63-449b-9b8e-88029e25e19e",
   "metadata": {},
   "outputs": [
    {
     "data": {
      "text/plain": [
       "array([[5, 5, 8, 6],\n",
       "       [8, 9, 4, 4],\n",
       "       [5, 3, 8, 2]])"
      ]
     },
     "execution_count": 51,
     "metadata": {},
     "output_type": "execute_result"
    }
   ],
   "source": [
    "T[np.isnan(T)]=0\n",
    "T"
   ]
  },
  {
   "cell_type": "code",
   "execution_count": 52,
   "id": "ceeb432d-9ffd-42cc-8683-43884b2c96f2",
   "metadata": {},
   "outputs": [
    {
     "data": {
      "text/plain": [
       "array([[False, False, False, False],\n",
       "       [False, False, False, False],\n",
       "       [False, False, False, False]])"
      ]
     },
     "execution_count": 52,
     "metadata": {},
     "output_type": "execute_result"
    }
   ],
   "source": [
    "np.isnan(T)"
   ]
  },
  {
   "cell_type": "code",
   "execution_count": 53,
   "id": "6b79688c-0095-4567-aed9-e2e7622c902b",
   "metadata": {},
   "outputs": [
    {
     "name": "stdout",
     "output_type": "stream",
     "text": [
      "[[ 4.  4.  4.]\n",
      " [ 5. nan  5.]\n",
      " [ 6.  6.  6.]\n",
      " [ 7. nan  7.]]\n"
     ]
    }
   ],
   "source": [
    "D=np.array([[4,4,4],[5,np.nan,5],[6,6,6],[7,np.nan,7]])\n",
    "print(D)"
   ]
  },
  {
   "cell_type": "code",
   "execution_count": 55,
   "id": "45b8086c-996d-468b-b00a-1d79c898e208",
   "metadata": {},
   "outputs": [
    {
     "data": {
      "text/plain": [
       "5.4"
      ]
     },
     "execution_count": 55,
     "metadata": {},
     "output_type": "execute_result"
    }
   ],
   "source": [
    "np.nanmean(D)"
   ]
  },
  {
   "cell_type": "code",
   "execution_count": 56,
   "id": "d43055eb-1a01-4d73-b729-9b0bb2279443",
   "metadata": {},
   "outputs": [
    {
     "name": "stdout",
     "output_type": "stream",
     "text": [
      "[[4 4 4]\n",
      " [5 5 5]\n",
      " [6 6 6]\n",
      " [7 7 7]]\n"
     ]
    }
   ],
   "source": [
    "D=np.array([[4,4,4],[5,5,5],[6,6,6],[7,7,7]])\n",
    "print(D)"
   ]
  },
  {
   "cell_type": "code",
   "execution_count": 57,
   "id": "4653d892-781f-44e9-aef7-3fbb44185f83",
   "metadata": {},
   "outputs": [
    {
     "data": {
      "text/plain": [
       "5.5"
      ]
     },
     "execution_count": 57,
     "metadata": {},
     "output_type": "execute_result"
    }
   ],
   "source": [
    "np.mean(D)"
   ]
  },
  {
   "cell_type": "code",
   "execution_count": 59,
   "id": "98cff810-e51d-47bb-ba04-fe77a0285115",
   "metadata": {},
   "outputs": [
    {
     "name": "stdout",
     "output_type": "stream",
     "text": [
      "[[ 64  64  64]\n",
      " [125 125 125]\n",
      " [216 216 216]\n",
      " [343 343 343]]\n"
     ]
    }
   ],
   "source": [
    "print(D**3)"
   ]
  },
  {
   "cell_type": "code",
   "execution_count": 61,
   "id": "03596400-b960-47a8-82eb-9b4c3bd184c7",
   "metadata": {},
   "outputs": [
    {
     "name": "stdout",
     "output_type": "stream",
     "text": [
      "[[ 5.65685425  5.65685425  5.65685425]\n",
      " [ 7.47674391  7.47674391  7.47674391]\n",
      " [ 9.39050748  9.39050748  9.39050748]\n",
      " [11.38603593 11.38603593 11.38603593]]\n"
     ]
    }
   ],
   "source": [
    "print(D*(D**(1/4)))"
   ]
  },
  {
   "cell_type": "code",
   "execution_count": null,
   "id": "b75f3786-f2bc-44e0-b04d-aa6135f7d1b8",
   "metadata": {},
   "outputs": [],
   "source": []
  }
 ],
 "metadata": {
  "kernelspec": {
   "display_name": "Python 3 (ipykernel)",
   "language": "python",
   "name": "python3"
  },
  "language_info": {
   "codemirror_mode": {
    "name": "ipython",
    "version": 3
   },
   "file_extension": ".py",
   "mimetype": "text/x-python",
   "name": "python",
   "nbconvert_exporter": "python",
   "pygments_lexer": "ipython3",
   "version": "3.12.7"
  }
 },
 "nbformat": 4,
 "nbformat_minor": 5
}
